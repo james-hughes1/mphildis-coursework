{
 "cells": [
  {
   "cell_type": "markdown",
   "metadata": {},
   "source": [
    "# Problem Sheet 3 PDS\n",
    "\n",
    "## Pre-Amble"
   ]
  },
  {
   "cell_type": "code",
   "execution_count": 33,
   "metadata": {},
   "outputs": [],
   "source": [
    "import numpy as np\n",
    "import matplotlib.pyplot as plt\n",
    "from iminuit import Minuit, cost\n",
    "import pandas as pd\n",
    "from scipy.special import gamma\n",
    "from scipy.stats import chi2\n",
    "\n",
    "plt.style.use(\"/home/jhughes2712/projects/coursework/mphildis-coursework/mphil.mplstyle\")"
   ]
  },
  {
   "cell_type": "markdown",
   "metadata": {},
   "source": [
    "## Question 1.d."
   ]
  },
  {
   "cell_type": "code",
   "execution_count": 36,
   "metadata": {},
   "outputs": [],
   "source": [
    "def rej_sample(pdf, n, lim, max_jobs=1e6):\n",
    "    \"\"\"Generates a random sample from any given distribution using rejection sampling.\n",
    "\n",
    "    Args:\n",
    "        pdf (function): returns the value of the pdf of the distribution given a float input. Need not be normalised, just nonnegative.\n",
    "        n (int): number of samples to realise.\n",
    "        lim (tuple): gives the support of the pdf in the form (a,b).\n",
    "    \"\"\"\n",
    "    a, b = lim\n",
    "    x_vals = np.linspace(a,b,1001)\n",
    "    y_max = np.max(np.vectorize(pdf)(x_vals))\n",
    "    sample = []\n",
    "    jobs = 0\n",
    "    while len(sample) < n and jobs < max_jobs:\n",
    "        x = np.random.uniform(a, b)\n",
    "        y = np.random.uniform(0, y_max)\n",
    "        if y < pdf(x):\n",
    "            sample.append(x)\n",
    "        jobs += 1\n",
    "    return sample, jobs"
   ]
  },
  {
   "cell_type": "code",
   "execution_count": 41,
   "metadata": {},
   "outputs": [],
   "source": [
    "def compute_d_value(k, a, b):\n",
    "    return (b**k - a**k)/k\n",
    "\n",
    "def quad_pdf(x, alpha, beta, a, b):\n",
    "    N = 1/(compute_d_value(1, a, b) + alpha*compute_d_value(2, a, b) + beta*compute_d_value(3, a ,b))\n",
    "    support_indicator = (x >= a)*(x <= b)\n",
    "    f = N * (1 + alpha*x + beta*(x**2)) * support_indicator\n",
    "    return f"
   ]
  },
  {
   "cell_type": "code",
   "execution_count": 95,
   "metadata": {},
   "outputs": [],
   "source": [
    "quad_pdf_fixed = lambda x: quad_pdf(x, -1, 2, 0, 1)\n",
    "quad_pdf_sample = np.array(rej_sample(quad_pdf_fixed, 10000, (0,1), max_jobs=1e10)[0])"
   ]
  },
  {
   "cell_type": "code",
   "execution_count": 96,
   "metadata": {},
   "outputs": [
    {
     "data": {
      "image/png": "[encoded data removed]",
      "text/plain": [
       "<Figure size 800x600 with 1 Axes>"
      ]
     },
     "metadata": {},
     "output_type": "display_data"
    }
   ],
   "source": [
    "fig = plt.figure(figsize=(8, 6))\n",
    "ax = plt.axes()\n",
    "\n",
    "x_plot = np.linspace(0,1,101)\n",
    "ax.plot(x_plot, quad_pdf_fixed(x_plot))\n",
    "ax.hist(quad_pdf_sample, density=True)\n",
    "\n",
    "plt.show()"
   ]
  },
  {
   "cell_type": "markdown",
   "metadata": {},
   "source": [
    "## Question 1.e."
   ]
  },
  {
   "cell_type": "code",
   "execution_count": 97,
   "metadata": {},
   "outputs": [],
   "source": [
    "def estimate_parameters_mom(mu_1, mu_2, a, b):\n",
    "    d_vals = [0]+[compute_d_value(k, a, b) for k in range(1,6)]\n",
    "    alpha_hat = ((mu_1*d_vals[1] - d_vals[2])*(mu_2*d_vals[3] - d_vals[5]) + (d_vals[3] - mu_2*d_vals[1])*(mu_1*d_vals[3] - d_vals[4])) / ((mu_1*d_vals[2] - d_vals[3])*(d_vals[5] - mu_2*d_vals[3]) + (mu_2*d_vals[2] - d_vals[4])*(mu_1*d_vals[3] - d_vals[4]))\n",
    "    beta_hat = (d_vals[2] - mu_1*d_vals[1] + (d_vals[3] - mu_1*d_vals[2])*alpha_hat) / (mu_1*d_vals[3] - d_vals[4])\n",
    "    return alpha_hat, beta_hat"
   ]
  },
  {
   "cell_type": "code",
   "execution_count": 98,
   "metadata": {},
   "outputs": [],
   "source": [
    "mu_1 = np.mean(quad_pdf_sample)\n",
    "mu_2 = np.mean(quad_pdf_sample**2)\n",
    "alpha_hat, beta_hat = estimate_parameters_mom(mu_1, mu_2, 0, 1)"
   ]
  },
  {
   "cell_type": "code",
   "execution_count": 99,
   "metadata": {},
   "outputs": [
    {
     "data": {
      "text/html": [
       "<table>\n",
       "    <tr>\n",
       "        <th colspan=\"5\" style=\"text-align:center\" title=\"Minimizer\"> Migrad </th>\n",
       "    </tr>\n",
       "    <tr>\n",
       "        <td colspan=\"2\" style=\"text-align:left\" title=\"Minimum value of function\"> FCN = -754.8 </td>\n",
       "        <td colspan=\"3\" style=\"text-align:center\" title=\"Total number of function and (optional) gradient evaluations\"> Nfcn = 68 </td>\n",
       "    </tr>\n",
       "    <tr>\n",
       "        <td colspan=\"2\" style=\"text-align:left\" title=\"Estimated distance to minimum and goal\"> EDM = 1.57e-06 (Goal: 0.0002) </td>\n",
       "        <td colspan=\"3\" style=\"text-align:center\" title=\"Total run time of algorithms\">  </td>\n",
       "    </tr>\n",
       "    <tr>\n",
       "        <td colspan=\"2\" style=\"text-align:center;background-color:#92CCA6;color:black\"> Valid Minimum </td>\n",
       "        <td colspan=\"3\" style=\"text-align:center;background-color:#92CCA6;color:black\"> No Parameters at limit </td>\n",
       "    </tr>\n",
       "    <tr>\n",
       "        <td colspan=\"2\" style=\"text-align:center;background-color:#92CCA6;color:black\"> Below EDM threshold (goal x 10) </td>\n",
       "        <td colspan=\"3\" style=\"text-align:center;background-color:#92CCA6;color:black\"> Below call limit </td>\n",
       "    </tr>\n",
       "    <tr>\n",
       "        <td style=\"text-align:center;background-color:#92CCA6;color:black\"> Covariance </td>\n",
       "        <td style=\"text-align:center;background-color:#92CCA6;color:black\"> Hesse ok </td>\n",
       "        <td style=\"text-align:center;background-color:#92CCA6;color:black\" title=\"Is covariance matrix accurate?\"> Accurate </td>\n",
       "        <td style=\"text-align:center;background-color:#92CCA6;color:black\" title=\"Is covariance matrix positive definite?\"> Pos. def. </td>\n",
       "        <td style=\"text-align:center;background-color:#92CCA6;color:black\" title=\"Was positive definiteness enforced by Minuit?\"> Not forced </td>\n",
       "    </tr>\n",
       "</table><table>\n",
       "    <tr>\n",
       "        <td></td>\n",
       "        <th title=\"Variable name\"> Name </th>\n",
       "        <th title=\"Value of parameter\"> Value </th>\n",
       "        <th title=\"Hesse error\"> Hesse Error </th>\n",
       "        <th title=\"Minos lower error\"> Minos Error- </th>\n",
       "        <th title=\"Minos upper error\"> Minos Error+ </th>\n",
       "        <th title=\"Lower limit of the parameter\"> Limit- </th>\n",
       "        <th title=\"Upper limit of the parameter\"> Limit+ </th>\n",
       "        <th title=\"Is the parameter fixed in the fit\"> Fixed </th>\n",
       "    </tr>\n",
       "    <tr>\n",
       "        <th> 0 </th>\n",
       "        <td> alpha </td>\n",
       "        <td> -0.79 </td>\n",
       "        <td> 0.14 </td>\n",
       "        <td>  </td>\n",
       "        <td>  </td>\n",
       "        <td>  </td>\n",
       "        <td>  </td>\n",
       "        <td>  </td>\n",
       "    </tr>\n",
       "    <tr>\n",
       "        <th> 1 </th>\n",
       "        <td> beta </td>\n",
       "        <td> 1.90 </td>\n",
       "        <td> 0.13 </td>\n",
       "        <td>  </td>\n",
       "        <td>  </td>\n",
       "        <td>  </td>\n",
       "        <td>  </td>\n",
       "        <td>  </td>\n",
       "    </tr>\n",
       "</table><table>\n",
       "    <tr>\n",
       "        <td></td>\n",
       "        <th> alpha </th>\n",
       "        <th> beta </th>\n",
       "    </tr>\n",
       "    <tr>\n",
       "        <th> alpha </th>\n",
       "        <td> 0.02 </td>\n",
       "        <td style=\"background-color:rgb(137,137,250);color:black\"> -0.0157 <strong>(-0.872)</strong> </td>\n",
       "    </tr>\n",
       "    <tr>\n",
       "        <th> beta </th>\n",
       "        <td style=\"background-color:rgb(137,137,250);color:black\"> -0.0157 <strong>(-0.872)</strong> </td>\n",
       "        <td> 0.0161 </td>\n",
       "    </tr>\n",
       "</table>"
      ],
      "text/plain": [
       "┌─────────────────────────────────────────────────────────────────────────┐\n",
       "│                                Migrad                                   │\n",
       "├──────────────────────────────────┬──────────────────────────────────────┤\n",
       "│ FCN = -754.8                     │              Nfcn = 68               │\n",
       "│ EDM = 1.57e-06 (Goal: 0.0002)    │                                      │\n",
       "├──────────────────────────────────┼──────────────────────────────────────┤\n",
       "│          Valid Minimum           │        No Parameters at limit        │\n",
       "├──────────────────────────────────┼──────────────────────────────────────┤\n",
       "│ Below EDM threshold (goal x 10)  │           Below call limit           │\n",
       "├───────────────┬──────────────────┼───────────┬─────────────┬────────────┤\n",
       "│  Covariance   │     Hesse ok     │ Accurate  │  Pos. def.  │ Not forced │\n",
       "└───────────────┴──────────────────┴───────────┴─────────────┴────────────┘\n",
       "┌───┬───────┬───────────┬───────────┬────────────┬────────────┬─────────┬─────────┬───────┐\n",
       "│   │ Name  │   Value   │ Hesse Err │ Minos Err- │ Minos Err+ │ Limit-  │ Limit+  │ Fixed │\n",
       "├───┼───────┼───────────┼───────────┼────────────┼────────────┼─────────┼─────────┼───────┤\n",
       "│ 0 │ alpha │   -0.79   │   0.14    │            │            │         │         │       │\n",
       "│ 1 │ beta  │   1.90    │   0.13    │            │            │         │         │       │\n",
       "└───┴───────┴───────────┴───────────┴────────────┴────────────┴─────────┴─────────┴───────┘\n",
       "┌───────┬─────────────────┐\n",
       "│       │   alpha    beta │\n",
       "├───────┼─────────────────┤\n",
       "│ alpha │    0.02 -0.0157 │\n",
       "│  beta │ -0.0157  0.0161 │\n",
       "└───────┴─────────────────┘"
      ]
     },
     "execution_count": 99,
     "metadata": {},
     "output_type": "execute_result"
    }
   ],
   "source": [
    "model = lambda x, alpha, beta: quad_pdf(x, alpha, beta, 0, 1)\n",
    "nll = cost.UnbinnedNLL(quad_pdf_sample, model )\n",
    "mi  = Minuit(nll, alpha=0, beta=0)\n",
    "mi.migrad()"
   ]
  },
  {
   "cell_type": "code",
   "execution_count": 100,
   "metadata": {},
   "outputs": [
    {
     "name": "stdout",
     "output_type": "stream",
     "text": [
      "MLE estimates: alpha = -0.78651; beta = 1.90270\n",
      "MOM estimates: alpha = -0.79903; beta = 1.91150\n"
     ]
    }
   ],
   "source": [
    "print(\"MLE estimates: alpha = {:.5f}; beta = {:.5f}\".format(*mi.values))\n",
    "print(\"MOM estimates: alpha = {:.5f}; beta = {:.5f}\".format(alpha_hat, beta_hat))"
   ]
  },
  {
   "cell_type": "code",
   "execution_count": 105,
   "metadata": {},
   "outputs": [
    {
     "ename": "ModuleNotFoundError",
     "evalue": "No module named 'jacobi'",
     "output_type": "error",
     "traceback": [
      "\u001b[0;31m---------------------------------------------------------------------------\u001b[0m",
      "\u001b[0;31mModuleNotFoundError\u001b[0m                       Traceback (most recent call last)",
      "\u001b[1;32m/home/jhughes2712/projects/coursework/mphildis-coursework/principles-of-data-science/Examples3.ipynb Cell 13\u001b[0m line \u001b[0;36m9\n\u001b[1;32m      <a href='vscode-notebook-cell://wsl%2Bubuntu/home/jhughes2712/projects/coursework/mphildis-coursework/principles-of-data-science/Examples3.ipynb#X22sdnNjb2RlLXJlbW90ZQ%3D%3D?line=4'>5</a>\u001b[0m cov_x22 \u001b[39m=\u001b[39m \u001b[39m1\u001b[39m\u001b[39m/\u001b[39m(N\u001b[39m*\u001b[39m(N\u001b[39m-\u001b[39m\u001b[39m1\u001b[39m)) \u001b[39m*\u001b[39m np\u001b[39m.\u001b[39msum( (quad_pdf_sample\u001b[39m*\u001b[39m\u001b[39m*\u001b[39m\u001b[39m2\u001b[39m \u001b[39m-\u001b[39m mu_2) \u001b[39m*\u001b[39m (quad_pdf_sample\u001b[39m*\u001b[39m\u001b[39m*\u001b[39m\u001b[39m2\u001b[39m \u001b[39m-\u001b[39m mu_2) )\n\u001b[1;32m      <a href='vscode-notebook-cell://wsl%2Bubuntu/home/jhughes2712/projects/coursework/mphildis-coursework/principles-of-data-science/Examples3.ipynb#X22sdnNjb2RlLXJlbW90ZQ%3D%3D?line=6'>7</a>\u001b[0m cov_paramater_estimates \u001b[39m=\u001b[39m np\u001b[39m.\u001b[39marray( [ [cov_x11, cov_x12], [ cov_x12, cov_x22] ] )\n\u001b[0;32m----> <a href='vscode-notebook-cell://wsl%2Bubuntu/home/jhughes2712/projects/coursework/mphildis-coursework/principles-of-data-science/Examples3.ipynb#X22sdnNjb2RlLXJlbW90ZQ%3D%3D?line=8'>9</a>\u001b[0m \u001b[39mfrom\u001b[39;00m \u001b[39mjacobi\u001b[39;00m \u001b[39mimport\u001b[39;00m propagate\n\u001b[1;32m     <a href='vscode-notebook-cell://wsl%2Bubuntu/home/jhughes2712/projects/coursework/mphildis-coursework/principles-of-data-science/Examples3.ipynb#X22sdnNjb2RlLXJlbW90ZQ%3D%3D?line=10'>11</a>\u001b[0m theta \u001b[39m=\u001b[39m \u001b[39mlambda\u001b[39;00m p: np\u001b[39m.\u001b[39marray([ \u001b[39m*\u001b[39mestimate_parameters_mom(\u001b[39m*\u001b[39mp) ])\n\u001b[1;32m     <a href='vscode-notebook-cell://wsl%2Bubuntu/home/jhughes2712/projects/coursework/mphildis-coursework/principles-of-data-science/Examples3.ipynb#X22sdnNjb2RlLXJlbW90ZQ%3D%3D?line=12'>13</a>\u001b[0m mom, mom_cov \u001b[39m=\u001b[39m propagate( theta, [alpha_hat, beta_hat], cov_paramater_estimates)\n",
      "\u001b[0;31mModuleNotFoundError\u001b[0m: No module named 'jacobi'"
     ]
    }
   ],
   "source": [
    "N = len(quad_pdf_sample)\n",
    "\n",
    "cov_x11 = 1/(N*(N-1)) * np.sum( (quad_pdf_sample - mu_1) * (quad_pdf_sample - mu_1) )\n",
    "cov_x12 = 1/(N*(N-1)) * np.sum( (quad_pdf_sample - mu_1) * (quad_pdf_sample**2 - mu_2) )\n",
    "cov_x22 = 1/(N*(N-1)) * np.sum( (quad_pdf_sample**2 - mu_2) * (quad_pdf_sample**2 - mu_2) )\n",
    "\n",
    "cov_paramater_estimates = np.array( [ [cov_x11, cov_x12], [ cov_x12, cov_x22] ] )\n",
    "\n",
    "from jacobi import propagate\n",
    "\n",
    "theta = lambda p: np.array([ *estimate_parameters_mom(*p) ])\n",
    "\n",
    "mom, mom_cov = propagate( theta, [alpha_hat, beta_hat], cov_paramater_estimates)"
   ]
  },
  {
   "cell_type": "markdown",
   "metadata": {},
   "source": [
    "## Question 3.a."
   ]
  },
  {
   "cell_type": "code",
   "execution_count": 99,
   "metadata": {},
   "outputs": [
    {
     "data": {
      "text/html": [
       "<div>\n",
       "<style scoped>\n",
       "    .dataframe tbody tr th:only-of-type {\n",
       "        vertical-align: middle;\n",
       "    }\n",
       "\n",
       "    .dataframe tbody tr th {\n",
       "        vertical-align: top;\n",
       "    }\n",
       "\n",
       "    .dataframe thead th {\n",
       "        text-align: right;\n",
       "    }\n",
       "</style>\n",
       "<table border=\"1\" class=\"dataframe\">\n",
       "  <thead>\n",
       "    <tr style=\"text-align: right;\">\n",
       "      <th></th>\n",
       "      <th>Events</th>\n",
       "      <th>Intervals</th>\n",
       "    </tr>\n",
       "  </thead>\n",
       "  <tbody>\n",
       "    <tr>\n",
       "      <th>0</th>\n",
       "      <td>0</td>\n",
       "      <td>1042</td>\n",
       "    </tr>\n",
       "    <tr>\n",
       "      <th>1</th>\n",
       "      <td>1</td>\n",
       "      <td>860</td>\n",
       "    </tr>\n",
       "    <tr>\n",
       "      <th>2</th>\n",
       "      <td>2</td>\n",
       "      <td>307</td>\n",
       "    </tr>\n",
       "    <tr>\n",
       "      <th>3</th>\n",
       "      <td>3</td>\n",
       "      <td>78</td>\n",
       "    </tr>\n",
       "    <tr>\n",
       "      <th>4</th>\n",
       "      <td>4</td>\n",
       "      <td>15</td>\n",
       "    </tr>\n",
       "    <tr>\n",
       "      <th>5</th>\n",
       "      <td>5</td>\n",
       "      <td>3</td>\n",
       "    </tr>\n",
       "    <tr>\n",
       "      <th>6</th>\n",
       "      <td>6</td>\n",
       "      <td>0</td>\n",
       "    </tr>\n",
       "    <tr>\n",
       "      <th>7</th>\n",
       "      <td>7</td>\n",
       "      <td>0</td>\n",
       "    </tr>\n",
       "    <tr>\n",
       "      <th>8</th>\n",
       "      <td>8</td>\n",
       "      <td>0</td>\n",
       "    </tr>\n",
       "    <tr>\n",
       "      <th>9</th>\n",
       "      <td>9</td>\n",
       "      <td>1</td>\n",
       "    </tr>\n",
       "  </tbody>\n",
       "</table>\n",
       "</div>"
      ],
      "text/plain": [
       "   Events  Intervals\n",
       "0       0       1042\n",
       "1       1        860\n",
       "2       2        307\n",
       "3       3         78\n",
       "4       4         15\n",
       "5       5          3\n",
       "6       6          0\n",
       "7       7          0\n",
       "8       8          0\n",
       "9       9          1"
      ]
     },
     "execution_count": 99,
     "metadata": {},
     "output_type": "execute_result"
    }
   ],
   "source": [
    "neutrino_df = pd.DataFrame({\"Events\":np.arange(10), \"Intervals\":np.array([1042, 860, 307, 78, 15, 3, 0, 0, 0, 1])})\n",
    "neutrino_df"
   ]
  },
  {
   "cell_type": "code",
   "execution_count": 100,
   "metadata": {},
   "outputs": [],
   "source": [
    "poisson_pdf = lambda x, param: param**x * np.exp(- param) / gamma(x+1)"
   ]
  },
  {
   "cell_type": "code",
   "execution_count": 101,
   "metadata": {},
   "outputs": [
    {
     "name": "stdout",
     "output_type": "stream",
     "text": [
      "Chi-squared/d.o.f.:  368.1377242399481\n",
      "P-value:  0.0\n"
     ]
    }
   ],
   "source": [
    "neutrino_df[\"Expected_1\"] = poisson_pdf(neutrino_df[\"Events\"], 0.777103209) * 2306\n",
    "chi_squared_1 = np.sum(((neutrino_df[\"Intervals\"] - neutrino_df[\"Expected_1\"])**2 ) / neutrino_df[\"Expected_1\"])\n",
    "print(\"Chi-squared/d.o.f.: \", chi_squared_1/9)\n",
    "p_value_2 = 1 - chi2.cdf(chi_squared_1, 9)\n",
    "print(\"P-value: \", p_value_2)"
   ]
  },
  {
   "cell_type": "code",
   "execution_count": 102,
   "metadata": {},
   "outputs": [],
   "source": [
    "neutrino_df[\"Intervals_adj\"] = neutrino_df[\"Intervals\"].copy()\n",
    "neutrino_df.iloc[-1,-1] = 0"
   ]
  },
  {
   "cell_type": "code",
   "execution_count": 103,
   "metadata": {},
   "outputs": [
    {
     "name": "stdout",
     "output_type": "stream",
     "text": [
      "Chi-squared/d.o.f.:  0.3604574572354266\n",
      "P-value:  0.9538250128893228\n"
     ]
    }
   ],
   "source": [
    "neutrino_df[\"Expected_2\"] = poisson_pdf(neutrino_df[\"Events\"], 0.7735357918) * 2306\n",
    "chi_squared_2 = np.sum( ((neutrino_df[\"Intervals_adj\"] - neutrino_df[\"Expected_2\"])**2 ) / neutrino_df[\"Expected_2\"] )\n",
    "print(\"Chi-squared/d.o.f.: \", chi_squared_2/9)\n",
    "p_value_2 = 1 - chi2.cdf(chi_squared_2, 9)\n",
    "print(\"P-value: \", p_value_2)"
   ]
  },
  {
   "cell_type": "code",
   "execution_count": 106,
   "metadata": {},
   "outputs": [
    {
     "data": {
      "text/plain": [
       "(3313.239518159533, 3.2441171151188395)"
      ]
     },
     "execution_count": 106,
     "metadata": {},
     "output_type": "execute_result"
    }
   ],
   "source": [
    "chi_squared_1, chi_squared_2"
   ]
  },
  {
   "cell_type": "code",
   "execution_count": 105,
   "metadata": {},
   "outputs": [
    {
     "data": {
      "text/html": [
       "<div>\n",
       "<style scoped>\n",
       "    .dataframe tbody tr th:only-of-type {\n",
       "        vertical-align: middle;\n",
       "    }\n",
       "\n",
       "    .dataframe tbody tr th {\n",
       "        vertical-align: top;\n",
       "    }\n",
       "\n",
       "    .dataframe thead th {\n",
       "        text-align: right;\n",
       "    }\n",
       "</style>\n",
       "<table border=\"1\" class=\"dataframe\">\n",
       "  <thead>\n",
       "    <tr style=\"text-align: right;\">\n",
       "      <th></th>\n",
       "      <th>Events</th>\n",
       "      <th>Intervals</th>\n",
       "      <th>Expected_1</th>\n",
       "      <th>Intervals_adj</th>\n",
       "      <th>Expected_2</th>\n",
       "    </tr>\n",
       "  </thead>\n",
       "  <tbody>\n",
       "    <tr>\n",
       "      <th>0</th>\n",
       "      <td>0</td>\n",
       "      <td>1042</td>\n",
       "      <td>1060.150854</td>\n",
       "      <td>1042</td>\n",
       "      <td>1063.939608</td>\n",
       "    </tr>\n",
       "    <tr>\n",
       "      <th>1</th>\n",
       "      <td>1</td>\n",
       "      <td>860</td>\n",
       "      <td>823.846630</td>\n",
       "      <td>860</td>\n",
       "      <td>822.995367</td>\n",
       "    </tr>\n",
       "    <tr>\n",
       "      <th>2</th>\n",
       "      <td>2</td>\n",
       "      <td>307</td>\n",
       "      <td>320.106930</td>\n",
       "      <td>307</td>\n",
       "      <td>318.308187</td>\n",
       "    </tr>\n",
       "    <tr>\n",
       "      <th>3</th>\n",
       "      <td>3</td>\n",
       "      <td>78</td>\n",
       "      <td>82.918708</td>\n",
       "      <td>78</td>\n",
       "      <td>82.074258</td>\n",
       "    </tr>\n",
       "    <tr>\n",
       "      <th>4</th>\n",
       "      <td>4</td>\n",
       "      <td>15</td>\n",
       "      <td>16.109098</td>\n",
       "      <td>15</td>\n",
       "      <td>15.871844</td>\n",
       "    </tr>\n",
       "    <tr>\n",
       "      <th>5</th>\n",
       "      <td>5</td>\n",
       "      <td>3</td>\n",
       "      <td>2.503686</td>\n",
       "      <td>3</td>\n",
       "      <td>2.455488</td>\n",
       "    </tr>\n",
       "    <tr>\n",
       "      <th>6</th>\n",
       "      <td>6</td>\n",
       "      <td>0</td>\n",
       "      <td>0.324270</td>\n",
       "      <td>0</td>\n",
       "      <td>0.316568</td>\n",
       "    </tr>\n",
       "    <tr>\n",
       "      <th>7</th>\n",
       "      <td>7</td>\n",
       "      <td>0</td>\n",
       "      <td>0.035999</td>\n",
       "      <td>0</td>\n",
       "      <td>0.034982</td>\n",
       "    </tr>\n",
       "    <tr>\n",
       "      <th>8</th>\n",
       "      <td>8</td>\n",
       "      <td>0</td>\n",
       "      <td>0.003497</td>\n",
       "      <td>0</td>\n",
       "      <td>0.003383</td>\n",
       "    </tr>\n",
       "    <tr>\n",
       "      <th>9</th>\n",
       "      <td>9</td>\n",
       "      <td>1</td>\n",
       "      <td>0.000302</td>\n",
       "      <td>0</td>\n",
       "      <td>0.000291</td>\n",
       "    </tr>\n",
       "  </tbody>\n",
       "</table>\n",
       "</div>"
      ],
      "text/plain": [
       "   Events  Intervals   Expected_1  Intervals_adj   Expected_2\n",
       "0       0       1042  1060.150854           1042  1063.939608\n",
       "1       1        860   823.846630            860   822.995367\n",
       "2       2        307   320.106930            307   318.308187\n",
       "3       3         78    82.918708             78    82.074258\n",
       "4       4         15    16.109098             15    15.871844\n",
       "5       5          3     2.503686              3     2.455488\n",
       "6       6          0     0.324270              0     0.316568\n",
       "7       7          0     0.035999              0     0.034982\n",
       "8       8          0     0.003497              0     0.003383\n",
       "9       9          1     0.000302              0     0.000291"
      ]
     },
     "execution_count": 105,
     "metadata": {},
     "output_type": "execute_result"
    }
   ],
   "source": [
    "neutrino_df"
   ]
  },
  {
   "cell_type": "code",
   "execution_count": null,
   "metadata": {},
   "outputs": [],
   "source": []
  }
 ],
 "metadata": {
  "kernelspec": {
   "display_name": "mphildis_pds",
   "language": "python",
   "name": "python3"
  },
  "language_info": {
   "codemirror_mode": {
    "name": "ipython",
    "version": 3
   },
   "file_extension": ".py",
   "mimetype": "text/x-python",
   "name": "python",
   "nbconvert_exporter": "python",
   "pygments_lexer": "ipython3",
   "version": "3.9.18"
  }
 },
 "nbformat": 4,
 "nbformat_minor": 2
}
