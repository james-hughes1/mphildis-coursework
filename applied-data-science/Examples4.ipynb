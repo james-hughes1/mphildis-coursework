{
 "cells": [
  {
   "cell_type": "markdown",
   "metadata": {},
   "source": [
    "# Class Notes\n",
    "\n",
    "- See KMeans++, this uses an initialisation which is found sequentially to improve the centroid diversity\n",
    "- For image compression, the original RGB image has NxNx3x8 bits (pixels, channels, bits per colour)\n",
    "    - After compression, we need Kx3x8 bits for the cluster colours, and then NxNxlog2(K) for the cluster labels for each pixel.\n",
    "    - "
   ]
  }
 ],
 "metadata": {
  "language_info": {
   "name": "python"
  }
 },
 "nbformat": 4,
 "nbformat_minor": 2
}
